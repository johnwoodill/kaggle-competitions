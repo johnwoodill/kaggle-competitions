{
 "cells": [
  {
   "cell_type": "markdown",
   "metadata": {
    "_cell_guid": "c9d041f0-a7fe-46ea-8c84-821572ccd9a3",
    "_uuid": "ca3198b1525214a53f33a933ddf0f22ac7963468"
   },
   "source": [
    "# <center> A Neural Network Model for House Prices"
   ]
  },
  {
   "cell_type": "markdown",
   "metadata": {
    "_cell_guid": "0adcac33-8276-4f86-a647-f2199e9d5ccf",
    "_uuid": "5608ad498d10e44e2126587e0b654dbbef918b42"
   },
   "source": [
    "The purpose of this notebook is to build a model (Deep Neural Network) with Tensorflow. We will see the differents steps to do that. This notebook is split in several parts:\n",
    "\n",
    "- I.    Importation & Devices Available\n",
    "- II.   Outliers\n",
    "- III.  Preprocessing\n",
    "- IV.   DNNRegressor for Contiunuous features\n",
    "- V.    Predictions\n",
    "- VI.   Example with Leaky Relu\n",
    "- VII.  DNNRegressor for Continuous and Categorial\n",
    "- VIII. Predictions bis\n",
    "- IX.   Shallow Neural Network\n",
    "- X.    Conclusion\n",
    "\n",
    "We will expose 3 models. The first one will use just the continuous features, the second one we will add the categorical features and finally we will use a Neural Network with just one layer.\n",
    "\n",
    "Theey are no tuning and we will use DNNRegressor with Relu for all activations functions and the number of units by layer are: [200, 100, 50, 25, 12]. So we have 5 layers.\n",
    "\n",
    "In the part VI I show how to use another activation function with the example of Leaky Relu. Finally I will try to use a Shallow Neural Network (just with one Hidden Layer) just for fun.\n",
    "\n",
    "If you have an idea to improve the performance of the model: Share it ! Fork it ! And play with it !"
   ]
  },
  {
   "cell_type": "markdown",
   "metadata": {
    "_cell_guid": "78d12eeb-72ea-43b0-b503-c8b9842e7d7b",
    "_uuid": "bd03c1594867b43b3f3494591b788d8eb9eab920"
   },
   "source": [
    "# <center> I. Importation & Devices Available"
   ]
  },
  {
   "cell_type": "markdown",
   "metadata": {
    "_cell_guid": "cb0e6d26-0b33-4f57-9aa7-91bdb6e9d953",
    "_uuid": "ff96a752268379cf111e275fee40722ad6780f18"
   },
   "source": [
    "Before the importation I prefer to check the devices available. Sometimes we can have a problems with your GPU for example. And if you want to have a good performance you must do use GPU and not CPU. In our example we have just a CPU but now you have the code to check if your devices is detected."
   ]
  },
  {
   "cell_type": "code",
   "execution_count": 1,
   "metadata": {
    "_uuid": "14491f7cb884be2c1ac35e9a2aca023604d1aed0"
   },
   "outputs": [],
   "source": [
    "import os\n",
    "import tensorflow as tf\n",
    "os.environ['TF_CPP_MIN_LOG_LEVEL'] = \"99\""
   ]
  },
  {
   "cell_type": "code",
   "execution_count": 2,
   "metadata": {
    "_cell_guid": "90b67cbc-419a-4fc8-9a91-8d8dc7f34396",
    "_uuid": "ff972448f235077543f3a0f6b9391bcea18329b6"
   },
   "outputs": [
    {
     "data": {
      "text/plain": [
       "[name: \"/cpu:0\"\n",
       " device_type: \"CPU\"\n",
       " memory_limit: 268435456\n",
       " locality {\n",
       " }\n",
       " incarnation: 6598418411853593815]"
      ]
     },
     "execution_count": 2,
     "metadata": {},
     "output_type": "execute_result"
    }
   ],
   "source": [
    "from tensorflow.python.client import device_lib\n",
    "device_lib.list_local_devices()"
   ]
  },
  {
   "cell_type": "markdown",
   "metadata": {
    "_cell_guid": "8932987f-35e8-4769-9feb-ad9916bf0109",
    "_uuid": "8f79a27f340c23cc74add1419bb1c98cab99b183"
   },
   "source": [
    "Now that we have checked the devices available we will test them wth a simple computation. Here we have an example with the computation on the CPU. But you can split the computation on your gpu with '/gpu:0'. If you want more GPU you can do 'with tf.device('/gpu:1'): ', 'with tf.device('/gpu:2'): ' etc...\n",
    "\n",
    "In our example I display the log information."
   ]
  },
  {
   "cell_type": "code",
   "execution_count": 3,
   "metadata": {
    "_cell_guid": "e14879c3-a5bd-4aee-8e06-139f643b7d18",
    "_uuid": "03e668187944a3aa412b3bba2e2a06edb5eb9e20"
   },
   "outputs": [
    {
     "name": "stdout",
     "output_type": "stream",
     "text": [
      "[[ 22.  28.]\n",
      " [ 49.  64.]]\n",
      "[node {\n",
      "  name: \"_send_MatMul_0\"\n",
      "  op: \"_Send\"\n",
      "  input: \"MatMul/_0__cf__0\"\n",
      "  device: \"/job:localhost/replica:0/task:0/cpu:0\"\n",
      "  attr {\n",
      "    key: \"T\"\n",
      "    value {\n",
      "      type: DT_FLOAT\n",
      "    }\n",
      "  }\n",
      "  attr {\n",
      "    key: \"client_terminated\"\n",
      "    value {\n",
      "      b: true\n",
      "    }\n",
      "  }\n",
      "  attr {\n",
      "    key: \"recv_device\"\n",
      "    value {\n",
      "      s: \"/job:localhost/replica:0/task:0/cpu:0\"\n",
      "    }\n",
      "  }\n",
      "  attr {\n",
      "    key: \"send_device\"\n",
      "    value {\n",
      "      s: \"/job:localhost/replica:0/task:0/cpu:0\"\n",
      "    }\n",
      "  }\n",
      "  attr {\n",
      "    key: \"send_device_incarnation\"\n",
      "    value {\n",
      "      i: -7369366161736576235\n",
      "    }\n",
      "  }\n",
      "  attr {\n",
      "    key: \"tensor_name\"\n",
      "    value {\n",
      "      s: \"MatMul:0\"\n",
      "    }\n",
      "  }\n",
      "}\n",
      "node {\n",
      "  name: \"MatMul/_0__cf__0\"\n",
      "  op: \"Const\"\n",
      "  device: \"/job:localhost/replica:0/task:0/cpu:0\"\n",
      "  attr {\n",
      "    key: \"dtype\"\n",
      "    value {\n",
      "      type: DT_FLOAT\n",
      "    }\n",
      "  }\n",
      "  attr {\n",
      "    key: \"value\"\n",
      "    value {\n",
      "      tensor {\n",
      "        dtype: DT_FLOAT\n",
      "        tensor_shape {\n",
      "          dim {\n",
      "            size: 2\n",
      "          }\n",
      "          dim {\n",
      "            size: 2\n",
      "          }\n",
      "        }\n",
      "        tensor_content: \"\\000\\000\\260A\\000\\000\\340A\\000\\000DB\\000\\000\\200B\"\n",
      "      }\n",
      "    }\n",
      "  }\n",
      "}\n",
      "versions {\n",
      "  producer: 21\n",
      "}\n",
      "]\n"
     ]
    }
   ],
   "source": [
    "# Test with a simple computation\n",
    "import tensorflow as tf\n",
    "\n",
    "tf.Session()\n",
    "\n",
    "with tf.device('/cpu:0'):\n",
    "    a = tf.constant([1.0, 2.0, 3.0, 4.0, 5.0, 6.0], shape=[2, 3])\n",
    "# If you have gpu you can try this line to compute b with your GPU\n",
    "#with tf.device('/gpu:0'):    \n",
    "    b = tf.constant([1.0, 2.0, 3.0, 4.0, 5.0, 6.0], shape=[3, 2])\n",
    "c = tf.matmul(a, b)\n",
    "# Creates a session with log_device_placement set to True.\n",
    "sess = tf.Session(config=tf.ConfigProto(log_device_placement=True))\n",
    "\n",
    "print(sess.run(c))\n",
    "\n",
    "# Runs the op.\n",
    "# Log information\n",
    "options = tf.RunOptions(output_partition_graphs=True)\n",
    "metadata = tf.RunMetadata()\n",
    "c_val = sess.run(c, options=options, run_metadata=metadata)\n",
    "\n",
    "print(metadata.partition_graphs)\n",
    "\n",
    "sess.close()"
   ]
  },
  {
   "cell_type": "markdown",
   "metadata": {
    "_cell_guid": "cdb671d1-2803-4290-8e8b-a54a00d21d44",
    "_uuid": "348514ad519851c2dc7e51dc04acdbe7d391d6fc"
   },
   "source": [
    "In this tutorial our data is composed to 1460 row with 81 features. 38 continuous features and 43 categorical features. As exposed in the introduction we will use onlly the continuous features to build our first model.\n",
    "\n",
    "Here the objective is to predict the House Prices. In this case we have a regression model to build.\n",
    "So our first data we will contain 37 features to explain the 'SalePrice'. We can see the list of features that we will use to build our first model."
   ]
  },
  {
   "cell_type": "code",
   "execution_count": 6,
   "metadata": {
    "_cell_guid": "9e15ad43-8a3a-4840-9c0d-afa2ba2bd148",
    "_uuid": "16485c4c885b6416be79eade3cfff6345861a8bd"
   },
   "outputs": [
    {
     "name": "stdout",
     "output_type": "stream",
     "text": [
      "Shape of the train data with all features: (1460, 81)\n",
      "\n",
      "Shape of the train data with numerical features: (1460, 38)\n",
      "\n",
      "List of features contained our dataset: ['MSSubClass', 'LotFrontage', 'LotArea', 'OverallQual', 'OverallCond', 'YearBuilt', 'YearRemodAdd', 'MasVnrArea', 'BsmtFinSF1', 'BsmtFinSF2', 'BsmtUnfSF', 'TotalBsmtSF', '1stFlrSF', '2ndFlrSF', 'LowQualFinSF', 'GrLivArea', 'BsmtFullBath', 'BsmtHalfBath', 'FullBath', 'HalfBath', 'BedroomAbvGr', 'KitchenAbvGr', 'TotRmsAbvGrd', 'Fireplaces', 'GarageYrBlt', 'GarageCars', 'GarageArea', 'WoodDeckSF', 'OpenPorchSF', 'EnclosedPorch', '3SsnPorch', 'ScreenPorch', 'PoolArea', 'MiscVal', 'MoSold', 'YrSold', 'SalePrice']\n"
     ]
    }
   ],
   "source": [
    "from __future__ import absolute_import\n",
    "from __future__ import division\n",
    "from __future__ import print_function\n",
    "\n",
    "import itertools\n",
    "\n",
    "import pandas as pd\n",
    "import numpy as np\n",
    "import matplotlib.pyplot as plt\n",
    "from pylab import rcParams\n",
    "import matplotlib\n",
    "\n",
    "from sklearn.model_selection import train_test_split\n",
    "from sklearn.preprocessing import MinMaxScaler\n",
    "\n",
    "tf.logging.set_verbosity(tf.logging.INFO)\n",
    "sess = tf.InteractiveSession()\n",
    "\n",
    "train = pd.read_csv('/Users/john/Projects/kaggle-competitions/housing-prices/data/train.csv')\n",
    "print('Shape of the train data with all features:', train.shape)\n",
    "train = train.select_dtypes(exclude=['object'])\n",
    "print(\"\")\n",
    "print('Shape of the train data with numerical features:', train.shape)\n",
    "train.drop('Id',axis = 1, inplace = True)\n",
    "train.fillna(0,inplace=True)\n",
    "\n",
    "test = pd.read_csv('/Users/john/Projects/kaggle-competitions/housing-prices/data/test.csv')\n",
    "test = test.select_dtypes(exclude=['object'])\n",
    "ID = test.Id\n",
    "test.fillna(0,inplace=True)\n",
    "test.drop('Id',axis = 1, inplace = True)\n",
    "\n",
    "print(\"\")\n",
    "print(\"List of features contained our dataset:\",list(train.columns))"
   ]
  },
  {
   "cell_type": "markdown",
   "metadata": {
    "_cell_guid": "c675ba7f-3d0c-4641-b133-e80711a19cf1",
    "_uuid": "6b90c9ce6240afc8a36106661afe100170ae738a"
   },
   "source": [
    "# <center> II. Outliers"
   ]
  },
  {
   "cell_type": "markdown",
   "metadata": {
    "_cell_guid": "7b049d56-52b0-4b6c-8c35-490a57eaea87",
    "_uuid": "ae94ba5f35444c2b46bd5bec0acd4a45e084bfc8"
   },
   "source": [
    "In this small part we will isolate the outliers with an IsolationForest (http://scikit-learn.org/stable/modules/generated/sklearn.ensemble.IsolationForest.html). I tried with and without this step and I had a better performance removing these rows.\n",
    "\n",
    "I haven't analysed the test set but I suppose that our train set looks like more at our data test without these outliers.\n"
   ]
  },
  {
   "cell_type": "code",
   "execution_count": 7,
   "metadata": {
    "_cell_guid": "599c148c-bee5-424e-80cc-afc1d7b1e3fb",
    "_uuid": "08498903317073ce7632c3fbff677ae842ca8389"
   },
   "outputs": [
    {
     "name": "stdout",
     "output_type": "stream",
     "text": [
      "Number of Outliers: 146\n",
      "Number of rows without outliers: 1314\n"
     ]
    }
   ],
   "source": [
    "from sklearn.ensemble import IsolationForest\n",
    "\n",
    "clf = IsolationForest(max_samples = 100, random_state = 42)\n",
    "clf.fit(train)\n",
    "y_noano = clf.predict(train)\n",
    "y_noano = pd.DataFrame(y_noano, columns = ['Top'])\n",
    "y_noano[y_noano['Top'] == 1].index.values\n",
    "\n",
    "train = train.iloc[y_noano[y_noano['Top'] == 1].index.values]\n",
    "train.reset_index(drop = True, inplace = True)\n",
    "print(\"Number of Outliers:\", y_noano[y_noano['Top'] == -1].shape[0])\n",
    "print(\"Number of rows without outliers:\", train.shape[0])"
   ]
  },
  {
   "cell_type": "code",
   "execution_count": 8,
   "metadata": {
    "_cell_guid": "b6056d39-23cd-4821-989a-e6769ad298d8",
    "_uuid": "d80cb31a8c00f704879e1c4771f701dd5d8031d0"
   },
   "outputs": [
    {
     "data": {
      "text/html": [
       "<div>\n",
       "<style scoped>\n",
       "    .dataframe tbody tr th:only-of-type {\n",
       "        vertical-align: middle;\n",
       "    }\n",
       "\n",
       "    .dataframe tbody tr th {\n",
       "        vertical-align: top;\n",
       "    }\n",
       "\n",
       "    .dataframe thead th {\n",
       "        text-align: right;\n",
       "    }\n",
       "</style>\n",
       "<table border=\"1\" class=\"dataframe\">\n",
       "  <thead>\n",
       "    <tr style=\"text-align: right;\">\n",
       "      <th></th>\n",
       "      <th>MSSubClass</th>\n",
       "      <th>LotFrontage</th>\n",
       "      <th>LotArea</th>\n",
       "      <th>OverallQual</th>\n",
       "      <th>OverallCond</th>\n",
       "      <th>YearBuilt</th>\n",
       "      <th>YearRemodAdd</th>\n",
       "      <th>MasVnrArea</th>\n",
       "      <th>BsmtFinSF1</th>\n",
       "      <th>BsmtFinSF2</th>\n",
       "      <th>...</th>\n",
       "      <th>WoodDeckSF</th>\n",
       "      <th>OpenPorchSF</th>\n",
       "      <th>EnclosedPorch</th>\n",
       "      <th>3SsnPorch</th>\n",
       "      <th>ScreenPorch</th>\n",
       "      <th>PoolArea</th>\n",
       "      <th>MiscVal</th>\n",
       "      <th>MoSold</th>\n",
       "      <th>YrSold</th>\n",
       "      <th>SalePrice</th>\n",
       "    </tr>\n",
       "  </thead>\n",
       "  <tbody>\n",
       "    <tr>\n",
       "      <th>0</th>\n",
       "      <td>60</td>\n",
       "      <td>65.0</td>\n",
       "      <td>8450</td>\n",
       "      <td>7</td>\n",
       "      <td>5</td>\n",
       "      <td>2003</td>\n",
       "      <td>2003</td>\n",
       "      <td>196.0</td>\n",
       "      <td>706</td>\n",
       "      <td>0</td>\n",
       "      <td>...</td>\n",
       "      <td>0</td>\n",
       "      <td>61</td>\n",
       "      <td>0</td>\n",
       "      <td>0</td>\n",
       "      <td>0</td>\n",
       "      <td>0</td>\n",
       "      <td>0</td>\n",
       "      <td>2</td>\n",
       "      <td>2008</td>\n",
       "      <td>208500</td>\n",
       "    </tr>\n",
       "    <tr>\n",
       "      <th>1</th>\n",
       "      <td>20</td>\n",
       "      <td>80.0</td>\n",
       "      <td>9600</td>\n",
       "      <td>6</td>\n",
       "      <td>8</td>\n",
       "      <td>1976</td>\n",
       "      <td>1976</td>\n",
       "      <td>0.0</td>\n",
       "      <td>978</td>\n",
       "      <td>0</td>\n",
       "      <td>...</td>\n",
       "      <td>298</td>\n",
       "      <td>0</td>\n",
       "      <td>0</td>\n",
       "      <td>0</td>\n",
       "      <td>0</td>\n",
       "      <td>0</td>\n",
       "      <td>0</td>\n",
       "      <td>5</td>\n",
       "      <td>2007</td>\n",
       "      <td>181500</td>\n",
       "    </tr>\n",
       "    <tr>\n",
       "      <th>2</th>\n",
       "      <td>60</td>\n",
       "      <td>68.0</td>\n",
       "      <td>11250</td>\n",
       "      <td>7</td>\n",
       "      <td>5</td>\n",
       "      <td>2001</td>\n",
       "      <td>2002</td>\n",
       "      <td>162.0</td>\n",
       "      <td>486</td>\n",
       "      <td>0</td>\n",
       "      <td>...</td>\n",
       "      <td>0</td>\n",
       "      <td>42</td>\n",
       "      <td>0</td>\n",
       "      <td>0</td>\n",
       "      <td>0</td>\n",
       "      <td>0</td>\n",
       "      <td>0</td>\n",
       "      <td>9</td>\n",
       "      <td>2008</td>\n",
       "      <td>223500</td>\n",
       "    </tr>\n",
       "    <tr>\n",
       "      <th>3</th>\n",
       "      <td>70</td>\n",
       "      <td>60.0</td>\n",
       "      <td>9550</td>\n",
       "      <td>7</td>\n",
       "      <td>5</td>\n",
       "      <td>1915</td>\n",
       "      <td>1970</td>\n",
       "      <td>0.0</td>\n",
       "      <td>216</td>\n",
       "      <td>0</td>\n",
       "      <td>...</td>\n",
       "      <td>0</td>\n",
       "      <td>35</td>\n",
       "      <td>272</td>\n",
       "      <td>0</td>\n",
       "      <td>0</td>\n",
       "      <td>0</td>\n",
       "      <td>0</td>\n",
       "      <td>2</td>\n",
       "      <td>2006</td>\n",
       "      <td>140000</td>\n",
       "    </tr>\n",
       "    <tr>\n",
       "      <th>4</th>\n",
       "      <td>60</td>\n",
       "      <td>84.0</td>\n",
       "      <td>14260</td>\n",
       "      <td>8</td>\n",
       "      <td>5</td>\n",
       "      <td>2000</td>\n",
       "      <td>2000</td>\n",
       "      <td>350.0</td>\n",
       "      <td>655</td>\n",
       "      <td>0</td>\n",
       "      <td>...</td>\n",
       "      <td>192</td>\n",
       "      <td>84</td>\n",
       "      <td>0</td>\n",
       "      <td>0</td>\n",
       "      <td>0</td>\n",
       "      <td>0</td>\n",
       "      <td>0</td>\n",
       "      <td>12</td>\n",
       "      <td>2008</td>\n",
       "      <td>250000</td>\n",
       "    </tr>\n",
       "    <tr>\n",
       "      <th>5</th>\n",
       "      <td>50</td>\n",
       "      <td>85.0</td>\n",
       "      <td>14115</td>\n",
       "      <td>5</td>\n",
       "      <td>5</td>\n",
       "      <td>1993</td>\n",
       "      <td>1995</td>\n",
       "      <td>0.0</td>\n",
       "      <td>732</td>\n",
       "      <td>0</td>\n",
       "      <td>...</td>\n",
       "      <td>40</td>\n",
       "      <td>30</td>\n",
       "      <td>0</td>\n",
       "      <td>320</td>\n",
       "      <td>0</td>\n",
       "      <td>0</td>\n",
       "      <td>700</td>\n",
       "      <td>10</td>\n",
       "      <td>2009</td>\n",
       "      <td>143000</td>\n",
       "    </tr>\n",
       "    <tr>\n",
       "      <th>6</th>\n",
       "      <td>20</td>\n",
       "      <td>75.0</td>\n",
       "      <td>10084</td>\n",
       "      <td>8</td>\n",
       "      <td>5</td>\n",
       "      <td>2004</td>\n",
       "      <td>2005</td>\n",
       "      <td>186.0</td>\n",
       "      <td>1369</td>\n",
       "      <td>0</td>\n",
       "      <td>...</td>\n",
       "      <td>255</td>\n",
       "      <td>57</td>\n",
       "      <td>0</td>\n",
       "      <td>0</td>\n",
       "      <td>0</td>\n",
       "      <td>0</td>\n",
       "      <td>0</td>\n",
       "      <td>8</td>\n",
       "      <td>2007</td>\n",
       "      <td>307000</td>\n",
       "    </tr>\n",
       "    <tr>\n",
       "      <th>7</th>\n",
       "      <td>50</td>\n",
       "      <td>51.0</td>\n",
       "      <td>6120</td>\n",
       "      <td>7</td>\n",
       "      <td>5</td>\n",
       "      <td>1931</td>\n",
       "      <td>1950</td>\n",
       "      <td>0.0</td>\n",
       "      <td>0</td>\n",
       "      <td>0</td>\n",
       "      <td>...</td>\n",
       "      <td>90</td>\n",
       "      <td>0</td>\n",
       "      <td>205</td>\n",
       "      <td>0</td>\n",
       "      <td>0</td>\n",
       "      <td>0</td>\n",
       "      <td>0</td>\n",
       "      <td>4</td>\n",
       "      <td>2008</td>\n",
       "      <td>129900</td>\n",
       "    </tr>\n",
       "    <tr>\n",
       "      <th>8</th>\n",
       "      <td>190</td>\n",
       "      <td>50.0</td>\n",
       "      <td>7420</td>\n",
       "      <td>5</td>\n",
       "      <td>6</td>\n",
       "      <td>1939</td>\n",
       "      <td>1950</td>\n",
       "      <td>0.0</td>\n",
       "      <td>851</td>\n",
       "      <td>0</td>\n",
       "      <td>...</td>\n",
       "      <td>0</td>\n",
       "      <td>4</td>\n",
       "      <td>0</td>\n",
       "      <td>0</td>\n",
       "      <td>0</td>\n",
       "      <td>0</td>\n",
       "      <td>0</td>\n",
       "      <td>1</td>\n",
       "      <td>2008</td>\n",
       "      <td>118000</td>\n",
       "    </tr>\n",
       "    <tr>\n",
       "      <th>9</th>\n",
       "      <td>20</td>\n",
       "      <td>70.0</td>\n",
       "      <td>11200</td>\n",
       "      <td>5</td>\n",
       "      <td>5</td>\n",
       "      <td>1965</td>\n",
       "      <td>1965</td>\n",
       "      <td>0.0</td>\n",
       "      <td>906</td>\n",
       "      <td>0</td>\n",
       "      <td>...</td>\n",
       "      <td>0</td>\n",
       "      <td>0</td>\n",
       "      <td>0</td>\n",
       "      <td>0</td>\n",
       "      <td>0</td>\n",
       "      <td>0</td>\n",
       "      <td>0</td>\n",
       "      <td>2</td>\n",
       "      <td>2008</td>\n",
       "      <td>129500</td>\n",
       "    </tr>\n",
       "  </tbody>\n",
       "</table>\n",
       "<p>10 rows × 37 columns</p>\n",
       "</div>"
      ],
      "text/plain": [
       "   MSSubClass  LotFrontage  LotArea  OverallQual  OverallCond  YearBuilt  \\\n",
       "0          60         65.0     8450            7            5       2003   \n",
       "1          20         80.0     9600            6            8       1976   \n",
       "2          60         68.0    11250            7            5       2001   \n",
       "3          70         60.0     9550            7            5       1915   \n",
       "4          60         84.0    14260            8            5       2000   \n",
       "5          50         85.0    14115            5            5       1993   \n",
       "6          20         75.0    10084            8            5       2004   \n",
       "7          50         51.0     6120            7            5       1931   \n",
       "8         190         50.0     7420            5            6       1939   \n",
       "9          20         70.0    11200            5            5       1965   \n",
       "\n",
       "   YearRemodAdd  MasVnrArea  BsmtFinSF1  BsmtFinSF2    ...      WoodDeckSF  \\\n",
       "0          2003       196.0         706           0    ...               0   \n",
       "1          1976         0.0         978           0    ...             298   \n",
       "2          2002       162.0         486           0    ...               0   \n",
       "3          1970         0.0         216           0    ...               0   \n",
       "4          2000       350.0         655           0    ...             192   \n",
       "5          1995         0.0         732           0    ...              40   \n",
       "6          2005       186.0        1369           0    ...             255   \n",
       "7          1950         0.0           0           0    ...              90   \n",
       "8          1950         0.0         851           0    ...               0   \n",
       "9          1965         0.0         906           0    ...               0   \n",
       "\n",
       "   OpenPorchSF  EnclosedPorch  3SsnPorch  ScreenPorch  PoolArea  MiscVal  \\\n",
       "0           61              0          0            0         0        0   \n",
       "1            0              0          0            0         0        0   \n",
       "2           42              0          0            0         0        0   \n",
       "3           35            272          0            0         0        0   \n",
       "4           84              0          0            0         0        0   \n",
       "5           30              0        320            0         0      700   \n",
       "6           57              0          0            0         0        0   \n",
       "7            0            205          0            0         0        0   \n",
       "8            4              0          0            0         0        0   \n",
       "9            0              0          0            0         0        0   \n",
       "\n",
       "   MoSold  YrSold  SalePrice  \n",
       "0       2    2008     208500  \n",
       "1       5    2007     181500  \n",
       "2       9    2008     223500  \n",
       "3       2    2006     140000  \n",
       "4      12    2008     250000  \n",
       "5      10    2009     143000  \n",
       "6       8    2007     307000  \n",
       "7       4    2008     129900  \n",
       "8       1    2008     118000  \n",
       "9       2    2008     129500  \n",
       "\n",
       "[10 rows x 37 columns]"
      ]
     },
     "execution_count": 8,
     "metadata": {},
     "output_type": "execute_result"
    }
   ],
   "source": [
    "train.head(10)"
   ]
  },
  {
   "cell_type": "markdown",
   "metadata": {
    "_cell_guid": "96ba460b-8ca5-4479-b9a8-94c04bd08b53",
    "_uuid": "546316d0afa2fad5717bb15a11186d2229d38cd7"
   },
   "source": [
    "# <center> III. Preprocessing"
   ]
  },
  {
   "cell_type": "markdown",
   "metadata": {
    "_cell_guid": "445cfd64-2d2f-4218-afb6-b5870d849fb1",
    "_uuid": "4b5d09fd48475d5707699f1725810c01811b61a8"
   },
   "source": [
    "To rescale our data we will use the fonction MinMaxScaler of Scikit-learn. I am wondering if it is not interesting to use the same MinMaxScaler for Train and Test !"
   ]
  },
  {
   "cell_type": "code",
   "execution_count": 9,
   "metadata": {
    "_cell_guid": "941c0846-55bf-45bb-a49d-be8084b9c056",
    "_uuid": "bdbe7b6ceb041aace9b18fe3849e568f3ad37f99"
   },
   "outputs": [
    {
     "data": {
      "text/html": [
       "<div>\n",
       "<style scoped>\n",
       "    .dataframe tbody tr th:only-of-type {\n",
       "        vertical-align: middle;\n",
       "    }\n",
       "\n",
       "    .dataframe tbody tr th {\n",
       "        vertical-align: top;\n",
       "    }\n",
       "\n",
       "    .dataframe thead th {\n",
       "        text-align: right;\n",
       "    }\n",
       "</style>\n",
       "<table border=\"1\" class=\"dataframe\">\n",
       "  <thead>\n",
       "    <tr style=\"text-align: right;\">\n",
       "      <th></th>\n",
       "      <th>MSSubClass</th>\n",
       "      <th>LotFrontage</th>\n",
       "      <th>LotArea</th>\n",
       "      <th>OverallQual</th>\n",
       "      <th>OverallCond</th>\n",
       "      <th>YearBuilt</th>\n",
       "      <th>YearRemodAdd</th>\n",
       "      <th>MasVnrArea</th>\n",
       "      <th>BsmtFinSF1</th>\n",
       "      <th>BsmtFinSF2</th>\n",
       "      <th>...</th>\n",
       "      <th>WoodDeckSF</th>\n",
       "      <th>OpenPorchSF</th>\n",
       "      <th>EnclosedPorch</th>\n",
       "      <th>3SsnPorch</th>\n",
       "      <th>ScreenPorch</th>\n",
       "      <th>PoolArea</th>\n",
       "      <th>MiscVal</th>\n",
       "      <th>MoSold</th>\n",
       "      <th>YrSold</th>\n",
       "      <th>SalePrice</th>\n",
       "    </tr>\n",
       "  </thead>\n",
       "  <tbody>\n",
       "    <tr>\n",
       "      <th>0</th>\n",
       "      <td>0.235294</td>\n",
       "      <td>0.207668</td>\n",
       "      <td>0.062802</td>\n",
       "      <td>0.625</td>\n",
       "      <td>0.428571</td>\n",
       "      <td>0.953488</td>\n",
       "      <td>0.883333</td>\n",
       "      <td>0.12250</td>\n",
       "      <td>0.416274</td>\n",
       "      <td>0.0</td>\n",
       "      <td>...</td>\n",
       "      <td>0.000000</td>\n",
       "      <td>0.167582</td>\n",
       "      <td>0.000000</td>\n",
       "      <td>0.0</td>\n",
       "      <td>0.0</td>\n",
       "      <td>0.0</td>\n",
       "      <td>0.0</td>\n",
       "      <td>0.090909</td>\n",
       "      <td>0.50</td>\n",
       "      <td>0.403057</td>\n",
       "    </tr>\n",
       "    <tr>\n",
       "      <th>1</th>\n",
       "      <td>0.000000</td>\n",
       "      <td>0.255591</td>\n",
       "      <td>0.072904</td>\n",
       "      <td>0.500</td>\n",
       "      <td>0.857143</td>\n",
       "      <td>0.744186</td>\n",
       "      <td>0.433333</td>\n",
       "      <td>0.00000</td>\n",
       "      <td>0.576651</td>\n",
       "      <td>0.0</td>\n",
       "      <td>...</td>\n",
       "      <td>0.404891</td>\n",
       "      <td>0.000000</td>\n",
       "      <td>0.000000</td>\n",
       "      <td>0.0</td>\n",
       "      <td>0.0</td>\n",
       "      <td>0.0</td>\n",
       "      <td>0.0</td>\n",
       "      <td>0.363636</td>\n",
       "      <td>0.25</td>\n",
       "      <td>0.340220</td>\n",
       "    </tr>\n",
       "    <tr>\n",
       "      <th>2</th>\n",
       "      <td>0.235294</td>\n",
       "      <td>0.217252</td>\n",
       "      <td>0.087396</td>\n",
       "      <td>0.625</td>\n",
       "      <td>0.428571</td>\n",
       "      <td>0.937984</td>\n",
       "      <td>0.866667</td>\n",
       "      <td>0.10125</td>\n",
       "      <td>0.286557</td>\n",
       "      <td>0.0</td>\n",
       "      <td>...</td>\n",
       "      <td>0.000000</td>\n",
       "      <td>0.115385</td>\n",
       "      <td>0.000000</td>\n",
       "      <td>0.0</td>\n",
       "      <td>0.0</td>\n",
       "      <td>0.0</td>\n",
       "      <td>0.0</td>\n",
       "      <td>0.727273</td>\n",
       "      <td>0.50</td>\n",
       "      <td>0.437966</td>\n",
       "    </tr>\n",
       "    <tr>\n",
       "      <th>3</th>\n",
       "      <td>0.294118</td>\n",
       "      <td>0.191693</td>\n",
       "      <td>0.072464</td>\n",
       "      <td>0.625</td>\n",
       "      <td>0.428571</td>\n",
       "      <td>0.271318</td>\n",
       "      <td>0.333333</td>\n",
       "      <td>0.00000</td>\n",
       "      <td>0.127358</td>\n",
       "      <td>0.0</td>\n",
       "      <td>...</td>\n",
       "      <td>0.000000</td>\n",
       "      <td>0.096154</td>\n",
       "      <td>0.824242</td>\n",
       "      <td>0.0</td>\n",
       "      <td>0.0</td>\n",
       "      <td>0.0</td>\n",
       "      <td>0.0</td>\n",
       "      <td>0.090909</td>\n",
       "      <td>0.00</td>\n",
       "      <td>0.243639</td>\n",
       "    </tr>\n",
       "    <tr>\n",
       "      <th>4</th>\n",
       "      <td>0.235294</td>\n",
       "      <td>0.268371</td>\n",
       "      <td>0.113835</td>\n",
       "      <td>0.750</td>\n",
       "      <td>0.428571</td>\n",
       "      <td>0.930233</td>\n",
       "      <td>0.833333</td>\n",
       "      <td>0.21875</td>\n",
       "      <td>0.386203</td>\n",
       "      <td>0.0</td>\n",
       "      <td>...</td>\n",
       "      <td>0.260870</td>\n",
       "      <td>0.230769</td>\n",
       "      <td>0.000000</td>\n",
       "      <td>0.0</td>\n",
       "      <td>0.0</td>\n",
       "      <td>0.0</td>\n",
       "      <td>0.0</td>\n",
       "      <td>1.000000</td>\n",
       "      <td>0.50</td>\n",
       "      <td>0.499638</td>\n",
       "    </tr>\n",
       "  </tbody>\n",
       "</table>\n",
       "<p>5 rows × 37 columns</p>\n",
       "</div>"
      ],
      "text/plain": [
       "   MSSubClass  LotFrontage   LotArea  OverallQual  OverallCond  YearBuilt  \\\n",
       "0    0.235294     0.207668  0.062802        0.625     0.428571   0.953488   \n",
       "1    0.000000     0.255591  0.072904        0.500     0.857143   0.744186   \n",
       "2    0.235294     0.217252  0.087396        0.625     0.428571   0.937984   \n",
       "3    0.294118     0.191693  0.072464        0.625     0.428571   0.271318   \n",
       "4    0.235294     0.268371  0.113835        0.750     0.428571   0.930233   \n",
       "\n",
       "   YearRemodAdd  MasVnrArea  BsmtFinSF1  BsmtFinSF2    ...      WoodDeckSF  \\\n",
       "0      0.883333     0.12250    0.416274         0.0    ...        0.000000   \n",
       "1      0.433333     0.00000    0.576651         0.0    ...        0.404891   \n",
       "2      0.866667     0.10125    0.286557         0.0    ...        0.000000   \n",
       "3      0.333333     0.00000    0.127358         0.0    ...        0.000000   \n",
       "4      0.833333     0.21875    0.386203         0.0    ...        0.260870   \n",
       "\n",
       "   OpenPorchSF  EnclosedPorch  3SsnPorch  ScreenPorch  PoolArea  MiscVal  \\\n",
       "0     0.167582       0.000000        0.0          0.0       0.0      0.0   \n",
       "1     0.000000       0.000000        0.0          0.0       0.0      0.0   \n",
       "2     0.115385       0.000000        0.0          0.0       0.0      0.0   \n",
       "3     0.096154       0.824242        0.0          0.0       0.0      0.0   \n",
       "4     0.230769       0.000000        0.0          0.0       0.0      0.0   \n",
       "\n",
       "     MoSold  YrSold  SalePrice  \n",
       "0  0.090909    0.50   0.403057  \n",
       "1  0.363636    0.25   0.340220  \n",
       "2  0.727273    0.50   0.437966  \n",
       "3  0.090909    0.00   0.243639  \n",
       "4  1.000000    0.50   0.499638  \n",
       "\n",
       "[5 rows x 37 columns]"
      ]
     },
     "execution_count": 9,
     "metadata": {},
     "output_type": "execute_result"
    }
   ],
   "source": [
    "import warnings\n",
    "warnings.filterwarnings('ignore')\n",
    "\n",
    "col_train = list(train.columns)\n",
    "col_train_bis = list(train.columns)\n",
    "\n",
    "col_train_bis.remove('SalePrice')\n",
    "\n",
    "mat_train = np.matrix(train)\n",
    "mat_test  = np.matrix(test)\n",
    "mat_new = np.matrix(train.drop('SalePrice',axis = 1))\n",
    "mat_y = np.array(train.SalePrice).reshape((1314,1))\n",
    "\n",
    "prepro_y = MinMaxScaler()\n",
    "prepro_y.fit(mat_y)\n",
    "\n",
    "prepro = MinMaxScaler()\n",
    "prepro.fit(mat_train)\n",
    "\n",
    "prepro_test = MinMaxScaler()\n",
    "prepro_test.fit(mat_new)\n",
    "\n",
    "train = pd.DataFrame(prepro.transform(mat_train),columns = col_train)\n",
    "test  = pd.DataFrame(prepro_test.transform(mat_test),columns = col_train_bis)\n",
    "\n",
    "train.head()"
   ]
  },
  {
   "cell_type": "markdown",
   "metadata": {
    "_cell_guid": "8343b430-aac9-4fb1-b752-cfa9f619a9c5",
    "_uuid": "a24e009d75b66a0979ec4e87d34611b405ad8b85"
   },
   "source": [
    "To use Tensorflow we need to transform our data (features) in a special format. As a reminder we have just the continuous features. So the first function used is: tf.contrib.layers.real_valued_column.\n",
    "More information here: https://www.tensorflow.org/api_docs/python/tf/contrib/layers/real_valued_column\n",
    "\n",
    "The others cells allowed to us to create a train set and test set with our training data set."
   ]
  },
  {
   "cell_type": "code",
   "execution_count": 10,
   "metadata": {
    "_cell_guid": "0b40bdb6-f813-4b94-94c6-599880f59445",
    "_uuid": "091aee81e454d14b95d61cae7e35a90e4a376ec2"
   },
   "outputs": [],
   "source": [
    "# List of features\n",
    "COLUMNS = col_train\n",
    "FEATURES = col_train_bis\n",
    "LABEL = \"SalePrice\"\n",
    "\n",
    "# Columns for tensorflow\n",
    "feature_cols = [tf.contrib.layers.real_valued_column(k) for k in FEATURES]\n",
    "\n",
    "# Training set and Prediction set with the features to predict\n",
    "training_set = train[COLUMNS]\n",
    "prediction_set = train.SalePrice\n",
    "\n",
    "# Train and Test \n",
    "x_train, x_test, y_train, y_test = train_test_split(training_set[FEATURES] , prediction_set, test_size=0.33, random_state=42)\n",
    "y_train = pd.DataFrame(y_train, columns = [LABEL])\n",
    "training_set = pd.DataFrame(x_train, columns = FEATURES).merge(y_train, left_index = True, right_index = True)\n",
    "training_set.head()\n",
    "\n",
    "# Training for submission\n",
    "training_sub = training_set[col_train]"
   ]
  },
  {
   "cell_type": "code",
   "execution_count": 11,
   "metadata": {
    "_cell_guid": "0cd9a504-0fd9-47ca-a247-69a920911e35",
    "_uuid": "9985b1ca4bfd4999989af752951676311c4f213e"
   },
   "outputs": [
    {
     "data": {
      "text/html": [
       "<div>\n",
       "<style scoped>\n",
       "    .dataframe tbody tr th:only-of-type {\n",
       "        vertical-align: middle;\n",
       "    }\n",
       "\n",
       "    .dataframe tbody tr th {\n",
       "        vertical-align: top;\n",
       "    }\n",
       "\n",
       "    .dataframe thead th {\n",
       "        text-align: right;\n",
       "    }\n",
       "</style>\n",
       "<table border=\"1\" class=\"dataframe\">\n",
       "  <thead>\n",
       "    <tr style=\"text-align: right;\">\n",
       "      <th></th>\n",
       "      <th>MSSubClass</th>\n",
       "      <th>LotFrontage</th>\n",
       "      <th>LotArea</th>\n",
       "      <th>OverallQual</th>\n",
       "      <th>OverallCond</th>\n",
       "      <th>YearBuilt</th>\n",
       "      <th>YearRemodAdd</th>\n",
       "      <th>MasVnrArea</th>\n",
       "      <th>BsmtFinSF1</th>\n",
       "      <th>BsmtFinSF2</th>\n",
       "      <th>...</th>\n",
       "      <th>WoodDeckSF</th>\n",
       "      <th>OpenPorchSF</th>\n",
       "      <th>EnclosedPorch</th>\n",
       "      <th>3SsnPorch</th>\n",
       "      <th>ScreenPorch</th>\n",
       "      <th>PoolArea</th>\n",
       "      <th>MiscVal</th>\n",
       "      <th>MoSold</th>\n",
       "      <th>YrSold</th>\n",
       "      <th>SalePrice</th>\n",
       "    </tr>\n",
       "  </thead>\n",
       "  <tbody>\n",
       "    <tr>\n",
       "      <th>1232</th>\n",
       "      <td>0.235294</td>\n",
       "      <td>0.239617</td>\n",
       "      <td>0.074221</td>\n",
       "      <td>0.625</td>\n",
       "      <td>0.571429</td>\n",
       "      <td>0.914729</td>\n",
       "      <td>0.800000</td>\n",
       "      <td>0.00000</td>\n",
       "      <td>0.574882</td>\n",
       "      <td>0.0</td>\n",
       "      <td>...</td>\n",
       "      <td>0.343750</td>\n",
       "      <td>0.467033</td>\n",
       "      <td>0.0</td>\n",
       "      <td>0.0</td>\n",
       "      <td>0.0</td>\n",
       "      <td>0.0</td>\n",
       "      <td>0.000000</td>\n",
       "      <td>0.454545</td>\n",
       "      <td>0.00</td>\n",
       "      <td>0.556191</td>\n",
       "    </tr>\n",
       "    <tr>\n",
       "      <th>76</th>\n",
       "      <td>0.352941</td>\n",
       "      <td>0.000000</td>\n",
       "      <td>0.063505</td>\n",
       "      <td>0.625</td>\n",
       "      <td>0.428571</td>\n",
       "      <td>0.891473</td>\n",
       "      <td>0.766667</td>\n",
       "      <td>0.01375</td>\n",
       "      <td>0.000000</td>\n",
       "      <td>0.0</td>\n",
       "      <td>...</td>\n",
       "      <td>0.163043</td>\n",
       "      <td>0.197802</td>\n",
       "      <td>0.0</td>\n",
       "      <td>0.0</td>\n",
       "      <td>0.0</td>\n",
       "      <td>0.0</td>\n",
       "      <td>0.045161</td>\n",
       "      <td>0.363636</td>\n",
       "      <td>0.75</td>\n",
       "      <td>0.309966</td>\n",
       "    </tr>\n",
       "    <tr>\n",
       "      <th>962</th>\n",
       "      <td>0.176471</td>\n",
       "      <td>0.159744</td>\n",
       "      <td>0.055205</td>\n",
       "      <td>0.375</td>\n",
       "      <td>0.142857</td>\n",
       "      <td>0.527132</td>\n",
       "      <td>0.000000</td>\n",
       "      <td>0.00000</td>\n",
       "      <td>0.000000</td>\n",
       "      <td>0.0</td>\n",
       "      <td>...</td>\n",
       "      <td>0.000000</td>\n",
       "      <td>0.000000</td>\n",
       "      <td>0.0</td>\n",
       "      <td>0.0</td>\n",
       "      <td>0.0</td>\n",
       "      <td>0.0</td>\n",
       "      <td>0.000000</td>\n",
       "      <td>0.636364</td>\n",
       "      <td>0.00</td>\n",
       "      <td>0.130767</td>\n",
       "    </tr>\n",
       "    <tr>\n",
       "      <th>433</th>\n",
       "      <td>0.588235</td>\n",
       "      <td>0.102236</td>\n",
       "      <td>0.028107</td>\n",
       "      <td>0.500</td>\n",
       "      <td>0.428571</td>\n",
       "      <td>0.914729</td>\n",
       "      <td>0.800000</td>\n",
       "      <td>0.07250</td>\n",
       "      <td>0.528892</td>\n",
       "      <td>0.0</td>\n",
       "      <td>...</td>\n",
       "      <td>0.000000</td>\n",
       "      <td>0.343407</td>\n",
       "      <td>0.0</td>\n",
       "      <td>0.0</td>\n",
       "      <td>0.0</td>\n",
       "      <td>0.0</td>\n",
       "      <td>0.000000</td>\n",
       "      <td>0.363636</td>\n",
       "      <td>0.00</td>\n",
       "      <td>0.299493</td>\n",
       "    </tr>\n",
       "    <tr>\n",
       "      <th>1110</th>\n",
       "      <td>0.823529</td>\n",
       "      <td>0.115016</td>\n",
       "      <td>0.011665</td>\n",
       "      <td>0.625</td>\n",
       "      <td>0.428571</td>\n",
       "      <td>0.953488</td>\n",
       "      <td>0.883333</td>\n",
       "      <td>0.06625</td>\n",
       "      <td>0.000000</td>\n",
       "      <td>0.0</td>\n",
       "      <td>...</td>\n",
       "      <td>0.000000</td>\n",
       "      <td>0.074176</td>\n",
       "      <td>0.0</td>\n",
       "      <td>0.0</td>\n",
       "      <td>0.0</td>\n",
       "      <td>0.0</td>\n",
       "      <td>0.000000</td>\n",
       "      <td>0.454545</td>\n",
       "      <td>1.00</td>\n",
       "      <td>0.326257</td>\n",
       "    </tr>\n",
       "  </tbody>\n",
       "</table>\n",
       "<p>5 rows × 37 columns</p>\n",
       "</div>"
      ],
      "text/plain": [
       "      MSSubClass  LotFrontage   LotArea  OverallQual  OverallCond  YearBuilt  \\\n",
       "1232    0.235294     0.239617  0.074221        0.625     0.571429   0.914729   \n",
       "76      0.352941     0.000000  0.063505        0.625     0.428571   0.891473   \n",
       "962     0.176471     0.159744  0.055205        0.375     0.142857   0.527132   \n",
       "433     0.588235     0.102236  0.028107        0.500     0.428571   0.914729   \n",
       "1110    0.823529     0.115016  0.011665        0.625     0.428571   0.953488   \n",
       "\n",
       "      YearRemodAdd  MasVnrArea  BsmtFinSF1  BsmtFinSF2    ...      WoodDeckSF  \\\n",
       "1232      0.800000     0.00000    0.574882         0.0    ...        0.343750   \n",
       "76        0.766667     0.01375    0.000000         0.0    ...        0.163043   \n",
       "962       0.000000     0.00000    0.000000         0.0    ...        0.000000   \n",
       "433       0.800000     0.07250    0.528892         0.0    ...        0.000000   \n",
       "1110      0.883333     0.06625    0.000000         0.0    ...        0.000000   \n",
       "\n",
       "      OpenPorchSF  EnclosedPorch  3SsnPorch  ScreenPorch  PoolArea   MiscVal  \\\n",
       "1232     0.467033            0.0        0.0          0.0       0.0  0.000000   \n",
       "76       0.197802            0.0        0.0          0.0       0.0  0.045161   \n",
       "962      0.000000            0.0        0.0          0.0       0.0  0.000000   \n",
       "433      0.343407            0.0        0.0          0.0       0.0  0.000000   \n",
       "1110     0.074176            0.0        0.0          0.0       0.0  0.000000   \n",
       "\n",
       "        MoSold  YrSold  SalePrice  \n",
       "1232  0.454545    0.00   0.556191  \n",
       "76    0.363636    0.75   0.309966  \n",
       "962   0.636364    0.00   0.130767  \n",
       "433   0.363636    0.00   0.299493  \n",
       "1110  0.454545    1.00   0.326257  \n",
       "\n",
       "[5 rows x 37 columns]"
      ]
     },
     "execution_count": 11,
     "metadata": {},
     "output_type": "execute_result"
    }
   ],
   "source": [
    "# Same thing but for the test set\n",
    "y_test = pd.DataFrame(y_test, columns = [LABEL])\n",
    "testing_set = pd.DataFrame(x_test, columns = FEATURES).merge(y_test, left_index = True, right_index = True)\n",
    "testing_set.head()"
   ]
  },
  {
   "cell_type": "markdown",
   "metadata": {
    "_cell_guid": "047f4ae6-7618-42d4-8ad0-4a19fd30ee81",
    "_uuid": "44e0b00b9d8718876bbe814f68044918207faeab"
   },
   "source": [
    "# <center> IV. Deep Neural Network for continuous features"
   ]
  },
  {
   "cell_type": "markdown",
   "metadata": {
    "_cell_guid": "0158e8c3-20e7-4a99-ab3a-b470ad4d0f9d",
    "_uuid": "b166945d4a4af37865003549116816cf5bd71062"
   },
   "source": [
    "With tf.contrib.learn it is very easy to implement a Deep Neural Network. In our example we will have 5 hidden layers with repsectly 200, 100, 50, 25 and 12 units and the function of activation will be Relu.\n",
    "\n",
    "The optimizer used in our case is an Adagrad optimizer (by default)."
   ]
  },
  {
   "cell_type": "code",
   "execution_count": 12,
   "metadata": {
    "_cell_guid": "ed573d14-ffb1-4ae5-9f28-97057c20c6ce",
    "_uuid": "6d2f589a8d2be2dd515929f9b9bdcf84736ac96e"
   },
   "outputs": [],
   "source": [
    "# Model\n",
    "tf.logging.set_verbosity(tf.logging.ERROR)\n",
    "regressor = tf.contrib.learn.DNNRegressor(feature_columns=feature_cols, \n",
    "                                          activation_fn = tf.nn.relu, hidden_units=[200, 100, 50, 25, 12])#,\n",
    "                                         #optimizer = tf.train.GradientDescentOptimizer( learning_rate= 0.1 ))"
   ]
  },
  {
   "cell_type": "code",
   "execution_count": 13,
   "metadata": {
    "_cell_guid": "cd61c1bb-0140-4b99-af7d-1feb99b43d9c",
    "_uuid": "17cb0aa6571321dfd833e54de61fc08a27a724da"
   },
   "outputs": [],
   "source": [
    "# Reset the index of training\n",
    "training_set.reset_index(drop = True, inplace =True)"
   ]
  },
  {
   "cell_type": "code",
   "execution_count": 14,
   "metadata": {
    "_cell_guid": "4de80d3b-6f4d-4257-8b8c-763215173e28",
    "_uuid": "7d121349efc922e5a69d3ef7e9aef69954e3b42a"
   },
   "outputs": [],
   "source": [
    "def input_fn(data_set, pred = False):\n",
    "    \n",
    "    if pred == False:\n",
    "        \n",
    "        feature_cols = {k: tf.constant(data_set[k].values) for k in FEATURES}\n",
    "        labels = tf.constant(data_set[LABEL].values)\n",
    "        \n",
    "        return feature_cols, labels\n",
    "\n",
    "    if pred == True:\n",
    "        feature_cols = {k: tf.constant(data_set[k].values) for k in FEATURES}\n",
    "        \n",
    "        return feature_cols"
   ]
  },
  {
   "cell_type": "code",
   "execution_count": 15,
   "metadata": {
    "_cell_guid": "aed9be24-12ad-48ca-b2eb-bf7c11d6a54a",
    "_uuid": "8324e3670b648792b4010d495eb3564554077d80"
   },
   "outputs": [
    {
     "data": {
      "text/plain": [
       "DNNRegressor(params={'head': <tensorflow.contrib.learn.python.learn.estimators.head._RegressionHead object at 0x10258b358>, 'hidden_units': [200, 100, 50, 25, 12], 'feature_columns': (_RealValuedColumn(column_name='MSSubClass', dimension=1, default_value=None, dtype=tf.float32, normalizer=None), _RealValuedColumn(column_name='LotFrontage', dimension=1, default_value=None, dtype=tf.float32, normalizer=None), _RealValuedColumn(column_name='LotArea', dimension=1, default_value=None, dtype=tf.float32, normalizer=None), _RealValuedColumn(column_name='OverallQual', dimension=1, default_value=None, dtype=tf.float32, normalizer=None), _RealValuedColumn(column_name='OverallCond', dimension=1, default_value=None, dtype=tf.float32, normalizer=None), _RealValuedColumn(column_name='YearBuilt', dimension=1, default_value=None, dtype=tf.float32, normalizer=None), _RealValuedColumn(column_name='YearRemodAdd', dimension=1, default_value=None, dtype=tf.float32, normalizer=None), _RealValuedColumn(column_name='MasVnrArea', dimension=1, default_value=None, dtype=tf.float32, normalizer=None), _RealValuedColumn(column_name='BsmtFinSF1', dimension=1, default_value=None, dtype=tf.float32, normalizer=None), _RealValuedColumn(column_name='BsmtFinSF2', dimension=1, default_value=None, dtype=tf.float32, normalizer=None), _RealValuedColumn(column_name='BsmtUnfSF', dimension=1, default_value=None, dtype=tf.float32, normalizer=None), _RealValuedColumn(column_name='TotalBsmtSF', dimension=1, default_value=None, dtype=tf.float32, normalizer=None), _RealValuedColumn(column_name='1stFlrSF', dimension=1, default_value=None, dtype=tf.float32, normalizer=None), _RealValuedColumn(column_name='2ndFlrSF', dimension=1, default_value=None, dtype=tf.float32, normalizer=None), _RealValuedColumn(column_name='LowQualFinSF', dimension=1, default_value=None, dtype=tf.float32, normalizer=None), _RealValuedColumn(column_name='GrLivArea', dimension=1, default_value=None, dtype=tf.float32, normalizer=None), _RealValuedColumn(column_name='BsmtFullBath', dimension=1, default_value=None, dtype=tf.float32, normalizer=None), _RealValuedColumn(column_name='BsmtHalfBath', dimension=1, default_value=None, dtype=tf.float32, normalizer=None), _RealValuedColumn(column_name='FullBath', dimension=1, default_value=None, dtype=tf.float32, normalizer=None), _RealValuedColumn(column_name='HalfBath', dimension=1, default_value=None, dtype=tf.float32, normalizer=None), _RealValuedColumn(column_name='BedroomAbvGr', dimension=1, default_value=None, dtype=tf.float32, normalizer=None), _RealValuedColumn(column_name='KitchenAbvGr', dimension=1, default_value=None, dtype=tf.float32, normalizer=None), _RealValuedColumn(column_name='TotRmsAbvGrd', dimension=1, default_value=None, dtype=tf.float32, normalizer=None), _RealValuedColumn(column_name='Fireplaces', dimension=1, default_value=None, dtype=tf.float32, normalizer=None), _RealValuedColumn(column_name='GarageYrBlt', dimension=1, default_value=None, dtype=tf.float32, normalizer=None), _RealValuedColumn(column_name='GarageCars', dimension=1, default_value=None, dtype=tf.float32, normalizer=None), _RealValuedColumn(column_name='GarageArea', dimension=1, default_value=None, dtype=tf.float32, normalizer=None), _RealValuedColumn(column_name='WoodDeckSF', dimension=1, default_value=None, dtype=tf.float32, normalizer=None), _RealValuedColumn(column_name='OpenPorchSF', dimension=1, default_value=None, dtype=tf.float32, normalizer=None), _RealValuedColumn(column_name='EnclosedPorch', dimension=1, default_value=None, dtype=tf.float32, normalizer=None), _RealValuedColumn(column_name='3SsnPorch', dimension=1, default_value=None, dtype=tf.float32, normalizer=None), _RealValuedColumn(column_name='ScreenPorch', dimension=1, default_value=None, dtype=tf.float32, normalizer=None), _RealValuedColumn(column_name='PoolArea', dimension=1, default_value=None, dtype=tf.float32, normalizer=None), _RealValuedColumn(column_name='MiscVal', dimension=1, default_value=None, dtype=tf.float32, normalizer=None), _RealValuedColumn(column_name='MoSold', dimension=1, default_value=None, dtype=tf.float32, normalizer=None), _RealValuedColumn(column_name='YrSold', dimension=1, default_value=None, dtype=tf.float32, normalizer=None)), 'optimizer': None, 'activation_fn': <function relu at 0x10b39f378>, 'dropout': None, 'gradient_clip_norm': None, 'embedding_lr_multipliers': None, 'input_layer_min_slice_size': None})"
      ]
     },
     "execution_count": 15,
     "metadata": {},
     "output_type": "execute_result"
    }
   ],
   "source": [
    "# Deep Neural Network Regressor with the training set which contain the data split by train test split\n",
    "regressor.fit(input_fn=lambda: input_fn(training_set), steps=2000)"
   ]
  },
  {
   "cell_type": "code",
   "execution_count": 18,
   "metadata": {
    "_cell_guid": "eb9cad74-6898-4bb5-a563-953a060f5448",
    "_uuid": "3e21c5eaba39aa7ad09df92c051ef22c5c95fd0d"
   },
   "outputs": [],
   "source": [
    "# Evaluation on the test set created by train_test_split\n",
    "ev = regressor.evaluate(input_fn=lambda: input_fn(testing_set), steps=1)"
   ]
  },
  {
   "cell_type": "code",
   "execution_count": 19,
   "metadata": {
    "_cell_guid": "0c163468-e38f-4340-ac6e-198f25739d12",
    "_uuid": "fe7df945092e0de175d64056b23dfd9da28747f9"
   },
   "outputs": [
    {
     "name": "stdout",
     "output_type": "stream",
     "text": [
      "Final Loss on the testing set: 0.002523\n"
     ]
    }
   ],
   "source": [
    "# Display the score on the testing set\n",
    "# 0.002X in average\n",
    "loss_score1 = ev[\"loss\"]\n",
    "print(\"Final Loss on the testing set: {0:f}\".format(loss_score1))"
   ]
  },
  {
   "cell_type": "code",
   "execution_count": 20,
   "metadata": {
    "_cell_guid": "c5c517b3-6011-4b05-9b34-ded41d82f8e4",
    "_uuid": "6ba45c1abe834c716c5445dde3b794af05e1aeff"
   },
   "outputs": [],
   "source": [
    "# Predictions\n",
    "y = regressor.predict(input_fn=lambda: input_fn(testing_set))\n",
    "predictions = list(itertools.islice(y, testing_set.shape[0]))\n"
   ]
  },
  {
   "cell_type": "markdown",
   "metadata": {
    "_cell_guid": "87746ee4-64f8-49ba-9a23-85d21261dc6b",
    "_uuid": "d75c2f98f4524273133765d146f131624ae7569c"
   },
   "source": [
    "# <center> V. Predictions and submission"
   ]
  },
  {
   "cell_type": "markdown",
   "metadata": {
    "_cell_guid": "1a08cbad-7b61-4c37-8686-5cc533d496ac",
    "_uuid": "0cebdd59654ca804beddc4f1a590877e59aa4e8a"
   },
   "source": [
    "Let's go to prepare our first submission ! Data Preprocessed: checked ! Outlier excluded: checked ! Model built: : checked! Next step: Used our model to make the predictions with the data set Test. And add one graphic to see the difference between the reality and the predictions."
   ]
  },
  {
   "cell_type": "code",
   "execution_count": 21,
   "metadata": {
    "_cell_guid": "0fb8ed1b-c0df-41b9-a764-55d675e8aa7c",
    "_uuid": "bf2281f14b4bcf56aac14ad691b1729e50cff5d8"
   },
   "outputs": [],
   "source": [
    "predictions = pd.DataFrame(prepro_y.inverse_transform(np.array(predictions).reshape(434,1)),columns = ['Prediction'])"
   ]
  },
  {
   "cell_type": "code",
   "execution_count": 22,
   "metadata": {
    "_cell_guid": "e4e48b49-f405-4e57-b6cb-587607253aab",
    "_uuid": "aa904a7f562129ac5f362e39089e6923f78d1acc"
   },
   "outputs": [],
   "source": [
    "reality = pd.DataFrame(prepro.inverse_transform(testing_set), columns = [COLUMNS]).SalePrice"
   ]
  },
  {
   "cell_type": "code",
   "execution_count": 23,
   "metadata": {
    "_cell_guid": "450559b2-bff3-427f-8dec-569191bd8c94",
    "_uuid": "a11028c04b0a6981169196e2c6fe84c245799b8e",
    "scrolled": false
   },
   "outputs": [
    {
     "data": {
      "image/png": "[encoded data removed]",
      "text/plain": [
       "<Figure size 3600x2880 with 1 Axes>"
      ]
     },
     "metadata": {},
     "output_type": "display_data"
    }
   ],
   "source": [
    "matplotlib.rc('xtick', labelsize=30) \n",
    "matplotlib.rc('ytick', labelsize=30) \n",
    "\n",
    "fig, ax = plt.subplots(figsize=(50, 40))\n",
    "\n",
    "plt.style.use('ggplot')\n",
    "plt.plot(predictions.values, reality.values, 'ro')\n",
    "plt.xlabel('Predictions', fontsize = 30)\n",
    "plt.ylabel('Reality', fontsize = 30)\n",
    "plt.title('Predictions x Reality on dataset Test', fontsize = 30)\n",
    "ax.plot([reality.min(), reality.max()], [reality.min(), reality.max()], 'k--', lw=4)\n",
    "plt.show()"
   ]
  },
  {
   "cell_type": "code",
   "execution_count": 29,
   "metadata": {
    "_cell_guid": "6008e5e1-29d7-42ac-b81a-d9e761a7e956",
    "_uuid": "3be76f4c812b3676a6816d8eb9353f049948ac49"
   },
   "outputs": [],
   "source": [
    "y_predict = regressor.predict(input_fn=lambda: input_fn(test, pred = True))\n",
    "\n",
    "def to_submit(pred_y,name_out):\n",
    "    y_predict = list(itertools.islice(pred_y, test.shape[0]))\n",
    "    y_predict = pd.DataFrame(prepro_y.inverse_transform(np.array(y_predict).reshape(len(y_predict),1)), columns = ['SalePrice'])\n",
    "    y_predict = y_predict.join(ID)\n",
    "    y_predict.to_csv(name_out + '.csv',index=False)\n",
    "    \n",
    "to_submit(y_predict, \"submission_continuous\")"
   ]
  },
  {
   "cell_type": "markdown",
   "metadata": {
    "_cell_guid": "75a14830-c565-4efa-a298-e45ebf11055a",
    "_uuid": "b4ac8e0fa1f7ea486880e006a5a70b37f91dd44a"
   },
   "source": [
    "# <center> VI. Leaky Relu"
   ]
  },
  {
   "cell_type": "markdown",
   "metadata": {
    "_cell_guid": "f2b740ac-bcbc-4eff-9026-94b5a286174f",
    "_uuid": "e3174c3df652b712a2c0af3c1d2517b4ab44bfac"
   },
   "source": [
    "An example with another activation function: Leaky Relu ! We can create this new function with Relu. As a reminder Relu is Max(x,0) and Leaky Relu is the function Max(x, delta*x). In our case we can take delta = 0.01"
   ]
  },
  {
   "cell_type": "code",
   "execution_count": 27,
   "metadata": {
    "_cell_guid": "d697dbb2-54e2-49aa-93dd-0c7c0cd12996",
    "_uuid": "51764360ba91ecdff96c6c89bb57142c6f19bac7"
   },
   "outputs": [],
   "source": [
    "def leaky_relu(x):\n",
    "    return tf.nn.relu(x) - 0.01 * tf.nn.relu(-x)"
   ]
  },
  {
   "cell_type": "code",
   "execution_count": 28,
   "metadata": {
    "_cell_guid": "49fe448a-883e-4693-b5c0-50417488336f",
    "_uuid": "940beb55da2e02f704c47a21d7ca4490a8852419"
   },
   "outputs": [],
   "source": [
    "# Model\n",
    "regressor = tf.contrib.learn.DNNRegressor(feature_columns=feature_cols, \n",
    "                                          activation_fn = leaky_relu, hidden_units=[200, 100, 50, 25, 12])\n",
    "    \n",
    "# Deep Neural Network Regressor with the training set which contain the data split by train test split\n",
    "regressor.fit(input_fn=lambda: input_fn(training_set), steps=2000)\n",
    "\n",
    "# Evaluation on the test set created by train_test_split\n",
    "ev = regressor.evaluate(input_fn=lambda: input_fn(testing_set), steps=1)"
   ]
  },
  {
   "cell_type": "code",
   "execution_count": null,
   "metadata": {
    "_cell_guid": "c3885a56-a0a1-434e-b6f4-d33440d3b721",
    "_uuid": "ff854c7ca8e0c03e0cf86edd3ad566fc79ebc05f",
    "collapsed": true
   },
   "outputs": [],
   "source": [
    "# Display the score on the testing set\n",
    "# 0.002X in average\n",
    "loss_score2 = ev[\"loss\"]\n",
    "print(\"Final Loss on the testing set with Leaky Relu: {0:f}\".format(loss_score2))"
   ]
  },
  {
   "cell_type": "code",
   "execution_count": null,
   "metadata": {
    "_cell_guid": "4df61196-e5e6-400b-90b4-f1c9736f92ab",
    "_uuid": "c96f4a907c614cd2bf2cfd649c8869e27aeac512",
    "collapsed": true
   },
   "outputs": [],
   "source": [
    "# Predictions\n",
    "y_predict = regressor.predict(input_fn=lambda: input_fn(test, pred = True))\n",
    "to_submit(y_predict, \"Leaky_relu\")"
   ]
  },
  {
   "cell_type": "code",
   "execution_count": null,
   "metadata": {
    "_cell_guid": "d33bd73c-5ebb-41bf-911c-bd8e6a4e6817",
    "_uuid": "83507853824f10fa77ce98e9f78d70dcbd857149",
    "collapsed": true
   },
   "outputs": [],
   "source": [
    "# Model\n",
    "regressor = tf.contrib.learn.DNNRegressor(feature_columns=feature_cols, \n",
    "                                          activation_fn = tf.nn.elu, hidden_units=[200, 100, 50, 25, 12])\n",
    "    \n",
    "# Deep Neural Network Regressor with the training set which contain the data split by train test split\n",
    "regressor.fit(input_fn=lambda: input_fn(training_set), steps=2000)\n",
    "\n",
    "# Evaluation on the test set created by train_test_split\n",
    "ev = regressor.evaluate(input_fn=lambda: input_fn(testing_set), steps=1)\n",
    "\n",
    "loss_score3 = ev[\"loss\"]"
   ]
  },
  {
   "cell_type": "code",
   "execution_count": null,
   "metadata": {
    "_cell_guid": "97a3110c-cd2f-47b1-a17e-2256ec224f55",
    "_uuid": "7dd50347b565abc2d23486fda6488385116fe637",
    "collapsed": true
   },
   "outputs": [],
   "source": [
    "print(\"Final Loss on the testing set with Elu: {0:f}\".format(loss_score3))"
   ]
  },
  {
   "cell_type": "code",
   "execution_count": null,
   "metadata": {
    "_cell_guid": "ca9e2de3-12e8-4881-92ba-f51fe185c958",
    "_uuid": "42ba57572d89bf477957f9d8e677759b77620f40",
    "collapsed": true
   },
   "outputs": [],
   "source": [
    "# Predictions\n",
    "y_predict = regressor.predict(input_fn=lambda: input_fn(test, pred = True))\n",
    "to_submit(y_predict, \"Elu\")"
   ]
  },
  {
   "cell_type": "markdown",
   "metadata": {
    "_cell_guid": "e49c1375-ff65-49e2-a594-b97c1cfffea1",
    "_uuid": "c131e5e4af5379787e492e1eb2a1855c27e93d30"
   },
   "source": [
    "So we have 3 submissions with 3 differents activation functions. But we built ours models just with the continuous features. If you want to comapare the performance download the 3 submissions and submit to the leaderboard. \n",
    "Now we see how do build another model by adding a categorical features."
   ]
  },
  {
   "cell_type": "markdown",
   "metadata": {
    "_cell_guid": "f8b3a45c-b978-4861-a44f-1236be9d4d2e",
    "_uuid": "0ca9015e24c91d4ea1503baf7002a2ecdc888d1b"
   },
   "source": [
    "# <center> VII. Deep Neural Network for continuous and categorical features"
   ]
  },
  {
   "cell_type": "markdown",
   "metadata": {
    "_cell_guid": "c607487a-83a1-4ba9-bd8f-ec9392fb1326",
    "_uuid": "173e1941a581e7a12d3054238af555d1fec89183"
   },
   "source": [
    "For this part I repeat the same functions that you can find previously by adding a categorical features.\n"
   ]
  },
  {
   "cell_type": "code",
   "execution_count": null,
   "metadata": {
    "_cell_guid": "5ae69e94-625c-421b-b3b5-325f80aa0164",
    "_uuid": "b536485388dc43bc383179d02e6c89b054f37159",
    "collapsed": true
   },
   "outputs": [],
   "source": [
    "# Import and split\n",
    "train = pd.read_csv('../input/train.csv')\n",
    "train.drop('Id',axis = 1, inplace = True)\n",
    "train_numerical = train.select_dtypes(exclude=['object'])\n",
    "train_numerical.fillna(0,inplace = True)\n",
    "train_categoric = train.select_dtypes(include=['object'])\n",
    "train_categoric.fillna('NONE',inplace = True)\n",
    "train = train_numerical.merge(train_categoric, left_index = True, right_index = True) \n",
    "\n",
    "test = pd.read_csv('../input/test.csv')\n",
    "ID = test.Id\n",
    "test.drop('Id',axis = 1, inplace = True)\n",
    "test_numerical = test.select_dtypes(exclude=['object'])\n",
    "test_numerical.fillna(0,inplace = True)\n",
    "test_categoric = test.select_dtypes(include=['object'])\n",
    "test_categoric.fillna('NONE',inplace = True)\n",
    "test = test_numerical.merge(test_categoric, left_index = True, right_index = True) "
   ]
  },
  {
   "cell_type": "code",
   "execution_count": null,
   "metadata": {
    "_cell_guid": "f67a2138-cdbc-4282-bd1d-55cc70c5c466",
    "_uuid": "8b5200d119fb5f1e836fb746e63bf26a5cb53aea",
    "collapsed": true
   },
   "outputs": [],
   "source": [
    "# Removie the outliers\n",
    "from sklearn.ensemble import IsolationForest\n",
    "\n",
    "clf = IsolationForest(max_samples = 100, random_state = 42)\n",
    "clf.fit(train_numerical)\n",
    "y_noano = clf.predict(train_numerical)\n",
    "y_noano = pd.DataFrame(y_noano, columns = ['Top'])\n",
    "y_noano[y_noano['Top'] == 1].index.values\n",
    "\n",
    "train_numerical = train_numerical.iloc[y_noano[y_noano['Top'] == 1].index.values]\n",
    "train_numerical.reset_index(drop = True, inplace = True)\n",
    "\n",
    "train_categoric = train_categoric.iloc[y_noano[y_noano['Top'] == 1].index.values]\n",
    "train_categoric.reset_index(drop = True, inplace = True)\n",
    "\n",
    "train = train.iloc[y_noano[y_noano['Top'] == 1].index.values]\n",
    "train.reset_index(drop = True, inplace = True)"
   ]
  },
  {
   "cell_type": "code",
   "execution_count": null,
   "metadata": {
    "_cell_guid": "0639e24d-202b-461c-b708-0c7d5bc3aa18",
    "_uuid": "b4b2a5534771950433404e618d6b002a913606a2",
    "collapsed": true
   },
   "outputs": [],
   "source": [
    "col_train_num = list(train_numerical.columns)\n",
    "col_train_num_bis = list(train_numerical.columns)\n",
    "\n",
    "col_train_cat = list(train_categoric.columns)\n",
    "\n",
    "col_train_num_bis.remove('SalePrice')\n",
    "\n",
    "mat_train = np.matrix(train_numerical)\n",
    "mat_test  = np.matrix(test_numerical)\n",
    "mat_new = np.matrix(train_numerical.drop('SalePrice',axis = 1))\n",
    "mat_y = np.array(train.SalePrice)\n",
    "\n",
    "prepro_y = MinMaxScaler()\n",
    "prepro_y.fit(mat_y.reshape(1314,1))\n",
    "\n",
    "prepro = MinMaxScaler()\n",
    "prepro.fit(mat_train)\n",
    "\n",
    "prepro_test = MinMaxScaler()\n",
    "prepro_test.fit(mat_new)\n",
    "\n",
    "train_num_scale = pd.DataFrame(prepro.transform(mat_train),columns = col_train)\n",
    "test_num_scale  = pd.DataFrame(prepro_test.transform(mat_test),columns = col_train_bis)"
   ]
  },
  {
   "cell_type": "code",
   "execution_count": null,
   "metadata": {
    "_cell_guid": "8ae00e60-3fe9-4297-a36e-91be9af657e0",
    "_uuid": "666dc634a6f1b56d4e5492644ecb49d9fc444fc6",
    "collapsed": true
   },
   "outputs": [],
   "source": [
    "train[col_train_num] = pd.DataFrame(prepro.transform(mat_train),columns = col_train_num)\n",
    "test[col_train_num_bis]  = test_num_scale"
   ]
  },
  {
   "cell_type": "markdown",
   "metadata": {
    "_cell_guid": "06a63dfe-4b39-4281-a240-7620595dcb87",
    "_uuid": "043062c7d11e3503cf2d60da1e3eb46639228a36"
   },
   "source": [
    "The principal changements are here with the lines beginning by for categorical_features... It is possible to use other function to prepare your categorical data. "
   ]
  },
  {
   "cell_type": "code",
   "execution_count": null,
   "metadata": {
    "_cell_guid": "268dc739-d13f-42e5-8eb0-f0f16e75b41b",
    "_uuid": "dae02f368a2cc5b5ca248e55e5b63e1e3477993e",
    "collapsed": true
   },
   "outputs": [],
   "source": [
    "# List of features\n",
    "COLUMNS = col_train_num\n",
    "FEATURES = col_train_num_bis\n",
    "LABEL = \"SalePrice\"\n",
    "\n",
    "FEATURES_CAT = col_train_cat\n",
    "\n",
    "engineered_features = []\n",
    "\n",
    "for continuous_feature in FEATURES:\n",
    "    engineered_features.append(\n",
    "        tf.contrib.layers.real_valued_column(continuous_feature))\n",
    "\n",
    "for categorical_feature in FEATURES_CAT:\n",
    "    sparse_column = tf.contrib.layers.sparse_column_with_hash_bucket(\n",
    "        categorical_feature, hash_bucket_size=1000)\n",
    "\n",
    "    engineered_features.append(tf.contrib.layers.embedding_column(sparse_id_column=sparse_column, dimension=16,combiner=\"sum\"))\n",
    "                                 \n",
    "# Training set and Prediction set with the features to predict\n",
    "training_set = train[FEATURES + FEATURES_CAT]\n",
    "prediction_set = train.SalePrice\n",
    "\n",
    "# Train and Test \n",
    "x_train, x_test, y_train, y_test = train_test_split(training_set[FEATURES + FEATURES_CAT] ,\n",
    "                                                    prediction_set, test_size=0.33, random_state=42)\n",
    "y_train = pd.DataFrame(y_train, columns = [LABEL])\n",
    "training_set = pd.DataFrame(x_train, columns = FEATURES + FEATURES_CAT).merge(y_train, left_index = True, right_index = True)\n",
    "\n",
    "# Training for submission\n",
    "training_sub = training_set[FEATURES + FEATURES_CAT]\n",
    "testing_sub = test[FEATURES + FEATURES_CAT]"
   ]
  },
  {
   "cell_type": "code",
   "execution_count": null,
   "metadata": {
    "_cell_guid": "b7a855c8-82d4-4935-83c0-b05f6d917a7e",
    "_uuid": "9be1327ff12a8c1e0a3ef6920cc482fea1a6b346",
    "collapsed": true
   },
   "outputs": [],
   "source": [
    "# Same thing but for the test set\n",
    "y_test = pd.DataFrame(y_test, columns = [LABEL])\n",
    "testing_set = pd.DataFrame(x_test, columns = FEATURES + FEATURES_CAT).merge(y_test, left_index = True, right_index = True)"
   ]
  },
  {
   "cell_type": "code",
   "execution_count": null,
   "metadata": {
    "_cell_guid": "f3df3f0c-9d5a-460b-9913-bd5768c3c665",
    "_uuid": "8069ef0a0ba6e38f4139e3b376e4e4de5546816d",
    "collapsed": true
   },
   "outputs": [],
   "source": [
    "training_set[FEATURES_CAT] = training_set[FEATURES_CAT].applymap(str)\n",
    "testing_set[FEATURES_CAT] = testing_set[FEATURES_CAT].applymap(str)\n",
    "\n",
    "def input_fn_new(data_set, training = True):\n",
    "    continuous_cols = {k: tf.constant(data_set[k].values) for k in FEATURES}\n",
    "    \n",
    "    categorical_cols = {k: tf.SparseTensor(\n",
    "        indices=[[i, 0] for i in range(data_set[k].size)], values = data_set[k].values, dense_shape = [data_set[k].size, 1]) for k in FEATURES_CAT}\n",
    "\n",
    "    # Merges the two dictionaries into one.\n",
    "    feature_cols = dict(list(continuous_cols.items()) + list(categorical_cols.items()))\n",
    "    \n",
    "    if training == True:\n",
    "        # Converts the label column into a constant Tensor.\n",
    "        label = tf.constant(data_set[LABEL].values)\n",
    "\n",
    "        # Returns the feature columns and the label.\n",
    "        return feature_cols, label\n",
    "    \n",
    "    return feature_cols\n",
    "\n",
    "# Model\n",
    "regressor = tf.contrib.learn.DNNRegressor(feature_columns = engineered_features, \n",
    "                                          activation_fn = tf.nn.relu, hidden_units=[200, 100, 50, 25, 12])"
   ]
  },
  {
   "cell_type": "code",
   "execution_count": null,
   "metadata": {
    "_cell_guid": "b009c3cd-9048-4418-b73d-322268ddfe10",
    "_uuid": "d7f907a9fc08d8af967c1f3f7acce50c722889fb",
    "collapsed": true
   },
   "outputs": [],
   "source": [
    "categorical_cols = {k: tf.SparseTensor(indices=[[i, 0] for i in range(training_set[k].size)], values = training_set[k].values, dense_shape = [training_set[k].size, 1]) for k in FEATURES_CAT}"
   ]
  },
  {
   "cell_type": "code",
   "execution_count": null,
   "metadata": {
    "_cell_guid": "874777ec-071a-4e2f-9e60-dcbc72487487",
    "_uuid": "71daf4fea970ed7a9232c67b5664fdaaf276203b",
    "collapsed": true
   },
   "outputs": [],
   "source": [
    "# Deep Neural Network Regressor with the training set which contain the data split by train test split\n",
    "regressor.fit(input_fn = lambda: input_fn_new(training_set) , steps=2000)"
   ]
  },
  {
   "cell_type": "code",
   "execution_count": null,
   "metadata": {
    "_cell_guid": "242a2c81-5736-4322-ae86-8ff474ac1438",
    "_uuid": "343de6e9ea87548d71fb379d5d3455d769b1fdf8",
    "collapsed": true
   },
   "outputs": [],
   "source": [
    "ev = regressor.evaluate(input_fn=lambda: input_fn_new(testing_set, training = True), steps=1)"
   ]
  },
  {
   "cell_type": "code",
   "execution_count": null,
   "metadata": {
    "_cell_guid": "bc5b50b5-5c58-471d-a4ac-18d5b3021ebf",
    "_uuid": "efa77284a7415bd742573492cc86a37eeff977a2",
    "collapsed": true
   },
   "outputs": [],
   "source": [
    "loss_score4 = ev[\"loss\"]\n",
    "print(\"Final Loss on the testing set: {0:f}\".format(loss_score4))"
   ]
  },
  {
   "cell_type": "markdown",
   "metadata": {
    "_cell_guid": "81cb38d1-5448-440c-af7f-92754947a1f3",
    "_uuid": "ef71e7267dae00cbf4bc2cd88260e46bb9088ee1"
   },
   "source": [
    "# <center> VIII. Predictions bis"
   ]
  },
  {
   "cell_type": "code",
   "execution_count": null,
   "metadata": {
    "_cell_guid": "3c1a3d70-26b9-4725-a431-09688c61b135",
    "_uuid": "71b34cbf12b26059ea3ddab595ddae87b1e937b4",
    "collapsed": true
   },
   "outputs": [],
   "source": [
    "# Predictions\n",
    "y = regressor.predict(input_fn=lambda: input_fn_new(testing_set))\n",
    "predictions = list(itertools.islice(y, testing_set.shape[0]))\n",
    "predictions = pd.DataFrame(prepro_y.inverse_transform(np.array(predictions).reshape(434,1)))"
   ]
  },
  {
   "cell_type": "code",
   "execution_count": null,
   "metadata": {
    "_cell_guid": "6e1fa3c8-6bc0-4f44-88bb-e102bbc15bab",
    "_uuid": "f202b4cc9c46c2cec55f144ad457233e2d892cfa",
    "collapsed": true
   },
   "outputs": [],
   "source": [
    "matplotlib.rc('xtick', labelsize=30) \n",
    "matplotlib.rc('ytick', labelsize=30) \n",
    "\n",
    "fig, ax = plt.subplots(figsize=(50, 40))\n",
    "\n",
    "plt.style.use('ggplot')\n",
    "plt.plot(predictions.values, reality.values, 'ro')\n",
    "plt.xlabel('Predictions', fontsize = 30)\n",
    "plt.ylabel('Reality', fontsize = 30)\n",
    "plt.title('Predictions x Reality on dataset Test', fontsize = 30)\n",
    "ax.plot([reality.min(), reality.max()], [reality.min(), reality.max()], 'k--', lw=4)\n",
    "plt.show()"
   ]
  },
  {
   "cell_type": "code",
   "execution_count": null,
   "metadata": {
    "_cell_guid": "784393b4-b463-4245-9256-c14dffa30b12",
    "_uuid": "9f13d3b60f511acbb91056cf1b12d037b60146be",
    "collapsed": true
   },
   "outputs": [],
   "source": [
    "y_predict = regressor.predict(input_fn=lambda: input_fn_new(testing_sub, training = False))"
   ]
  },
  {
   "cell_type": "code",
   "execution_count": null,
   "metadata": {
    "_cell_guid": "24bc5061-452d-4e05-9d13-97cb7aab8289",
    "_uuid": "1c9106270fd38e149054c6fcd1576c67a2db3a48",
    "collapsed": true
   },
   "outputs": [],
   "source": [
    "to_submit(y_predict, \"submission_cont_categ\")"
   ]
  },
  {
   "cell_type": "markdown",
   "metadata": {
    "_cell_guid": "7e016bd8-c2ce-46f2-aabd-6ab0c319de47",
    "_uuid": "c38f966130fa61b824e432043818618a0e849fe5"
   },
   "source": [
    "# <center> IX. Shallow Network"
   ]
  },
  {
   "cell_type": "markdown",
   "metadata": {
    "_cell_guid": "a669a46b-f1a9-463d-8b1b-7e45505ad178",
    "_uuid": "a47468d133d7d191f770c3d08334864aa74d15d1"
   },
   "source": [
    "For this part we will expolore the architecture with just one Hidden Layer with several units. The question is: How many units do you need to have a good score on the leaderboard? We will try with 1000 units with the activation function Relu."
   ]
  },
  {
   "cell_type": "code",
   "execution_count": null,
   "metadata": {
    "_cell_guid": "62ea6c6e-da9a-43fd-b72c-a9ce5f04330c",
    "_uuid": "827d3c0248410ceb027cb564c8cdee55965cf0e5",
    "collapsed": true
   },
   "outputs": [],
   "source": [
    "# Model\n",
    "regressor = tf.contrib.learn.DNNRegressor(feature_columns = engineered_features, \n",
    "                                          activation_fn = tf.nn.relu, hidden_units=[1000])"
   ]
  },
  {
   "cell_type": "code",
   "execution_count": null,
   "metadata": {
    "_cell_guid": "d06dc911-71e7-458a-9a6b-92ae6556fe77",
    "_uuid": "a130ce41bfa507dcd3171eb97f1e56f559d9e444",
    "collapsed": true
   },
   "outputs": [],
   "source": [
    "# Deep Neural Network Regressor with the training set which contain the data split by train test split\n",
    "regressor.fit(input_fn = lambda: input_fn_new(training_set) , steps=2000)"
   ]
  },
  {
   "cell_type": "code",
   "execution_count": null,
   "metadata": {
    "_cell_guid": "a071d27f-5257-4f3c-bccf-5e9a80daed0f",
    "_uuid": "352fd136f75cab9e514d3fa8918385bb3ce768fb",
    "collapsed": true
   },
   "outputs": [],
   "source": [
    "ev = regressor.evaluate(input_fn=lambda: input_fn_new(testing_set, training = True), steps=1)\n",
    "loss_score5 = ev[\"loss\"]"
   ]
  },
  {
   "cell_type": "code",
   "execution_count": null,
   "metadata": {
    "_cell_guid": "3c76cf13-b147-414c-a2d0-4eee1b62b297",
    "_uuid": "e5063613e9925962428ed861437449f458ff9d29",
    "collapsed": true
   },
   "outputs": [],
   "source": [
    "print(\"Final Loss on the testing set: {0:f}\".format(loss_score5))"
   ]
  },
  {
   "cell_type": "code",
   "execution_count": null,
   "metadata": {
    "_cell_guid": "58bc0c60-456c-408b-a6d7-255a4506db36",
    "_uuid": "87be0f6006d75564020d7967528cec97a6664e85",
    "collapsed": true
   },
   "outputs": [],
   "source": [
    "y_predict = regressor.predict(input_fn=lambda: input_fn_new(testing_sub, training = False))    \n",
    "to_submit(y_predict, \"submission_shallow\")"
   ]
  },
  {
   "cell_type": "markdown",
   "metadata": {
    "_cell_guid": "51ab5586-53f3-43e0-926b-e178f856f5a1",
    "_uuid": "ee22d288772717d0f61fa1ca8db79b8f765ecccc"
   },
   "source": [
    "# <center> X. Conclusion"
   ]
  },
  {
   "cell_type": "code",
   "execution_count": null,
   "metadata": {
    "_cell_guid": "9547c21a-4f23-49cf-8cc6-269c328b8ec5",
    "_uuid": "548cadf701cde3e7850171dd6f52a24fd42add0f",
    "collapsed": true
   },
   "outputs": [],
   "source": [
    "list_score = [loss_score1, loss_score2, loss_score3, loss_score4,loss_score5]\n",
    "list_model = ['Relu_cont', 'LRelu_cont', 'Elu_cont', 'Relu_cont_categ','Shallow_1ku']"
   ]
  },
  {
   "cell_type": "code",
   "execution_count": null,
   "metadata": {
    "_cell_guid": "5b1f7fb1-f8ba-4176-9bc6-a7c85d520e50",
    "_uuid": "38ac30fe3da8cd6a6bd98e78c8aaadbfa16ccb7a",
    "collapsed": true
   },
   "outputs": [],
   "source": [
    "import matplotlib.pyplot as plt; plt.rcdefaults()\n",
    "\n",
    "plt.style.use('ggplot')\n",
    "objects = list_model\n",
    "y_pos = np.arange(len(objects))\n",
    "performance = list_score\n",
    " \n",
    "plt.barh(y_pos, performance, align='center', alpha=0.9)\n",
    "plt.yticks(y_pos, objects)\n",
    "plt.xlabel('Loss ')\n",
    "plt.title('Model compared without hypertuning')\n",
    " \n",
    "plt.show()"
   ]
  },
  {
   "cell_type": "markdown",
   "metadata": {
    "_cell_guid": "9b48d35b-9281-48de-8534-b0448b99918b",
    "_uuid": "285871604d03aa1b18672e871c4641b0098a11a1"
   },
   "source": [
    "So, I hope that this small introduction will be useful ! With this code you can build a regression model with Tensorflow with continuous and categorical features plus add a new activation function (LeakyRelu). \n",
    "If you want to improve the results you can re-build the models on the whole of data. You can see that I'm used just 67% of the training set to build my models.\n",
    "\n",
    "Take my code and play with it: More Hyperparameters, 100% of the training set to build the next models, try with other activation function etc...\n"
   ]
  }
 ],
 "metadata": {
  "kernelspec": {
   "display_name": "Python 3",
   "language": "python",
   "name": "python3"
  },
  "language_info": {
   "codemirror_mode": {
    "name": "ipython",
    "version": 3
   },
   "file_extension": ".py",
   "mimetype": "text/x-python",
   "name": "python",
   "nbconvert_exporter": "python",
   "pygments_lexer": "ipython3",
   "version": "3.6.5"
  }
 },
 "nbformat": 4,
 "nbformat_minor": 1
}
